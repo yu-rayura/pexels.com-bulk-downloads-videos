{
  "nbformat": 4,
  "nbformat_minor": 0,
  "metadata": {
    "colab": {
      "provenance": [],
      "authorship_tag": "ABX9TyNkb7pnkMvuYjYlpmIIuz5g",
      "include_colab_link": true
    },
    "kernelspec": {
      "name": "python3",
      "display_name": "Python 3"
    },
    "language_info": {
      "name": "python"
    }
  },
  "cells": [
    {
      "cell_type": "markdown",
      "metadata": {
        "id": "view-in-github",
        "colab_type": "text"
      },
      "source": [
        "<a href=\"https://colab.research.google.com/github/yu-rayura/pexels.com-bulk-downloads-videos/blob/main/pexelsdl.ipynb\" target=\"_parent\"><img src=\"https://colab.research.google.com/assets/colab-badge.svg\" alt=\"Open In Colab\"/></a>"
      ]
    },
    {
      "cell_type": "code",
      "source": [
        "pip3 install pexelsPy"
      ],
      "metadata": {
        "colab": {
          "base_uri": "https://localhost:8080/",
          "height": 147
        },
        "id": "qWxQ83u77O3x",
        "outputId": "d944019e-fbdd-47d7-d58a-ad79d3c053db"
      },
      "execution_count": 6,
      "outputs": [
        {
          "output_type": "error",
          "ename": "SyntaxError",
          "evalue": "ignored",
          "traceback": [
            "\u001b[0;36m  File \u001b[0;32m\"<ipython-input-6-8a1a5319aafb>\"\u001b[0;36m, line \u001b[0;32m1\u001b[0m\n\u001b[0;31m    pip3 install pexelsPy\u001b[0m\n\u001b[0m         ^\u001b[0m\n\u001b[0;31mSyntaxError\u001b[0m\u001b[0;31m:\u001b[0m invalid syntax\n"
          ]
        }
      ]
    },
    {
      "cell_type": "code",
      "source": [
        "import pexelsPy\n",
        "import requests\n",
        "\n",
        "PEXELS_API = 'hCBODgTl5OnSfnBSTD68IoY0wyxZjmLh7I9fYamgzZGbz4Tt9wfckaIk'\n",
        "api = pexelsPy.API(PEXELS_API)\n",
        "\n",
        "pageNumbers = 1\n",
        "resultsPage = 5\n",
        "\n",
        "api.search_videos('Sea', page=pageNumbers, results_per_page=resultsPage)\n",
        "videos = api.get_videos()\n",
        "\n",
        "\n",
        "for data in videos:\n",
        "    url_video = 'https://www.pexels.com/video/' + str(data.id) + '/download'\n",
        "    r = requests.get(url_video)\n",
        "    with open(data.url.split('/')[-2]+'.mp4', 'wb') as outfile:\n",
        "        outfile.write(r.content)\n"
      ],
      "metadata": {
        "id": "NZ-9n40q7nvt"
      },
      "execution_count": 5,
      "outputs": []
    }
  ]
}